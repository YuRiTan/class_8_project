{
 "cells": [
  {
   "cell_type": "code",
   "execution_count": 8,
   "metadata": {},
   "outputs": [],
   "source": [
    "import pandas as pd\n",
    "import numpy as np\n",
    "import seaborn as sns"
   ]
  },
  {
   "cell_type": "code",
   "execution_count": 43,
   "metadata": {},
   "outputs": [],
   "source": [
    "path = 'notebooks/xomnia_chat_android.txt'"
   ]
  },
  {
   "cell_type": "code",
   "execution_count": 44,
   "metadata": {},
   "outputs": [],
   "source": [
    "with open(path, 'r', encoding=\"utf-8\") as f:\n",
    "    text = f.read()"
   ]
  },
  {
   "cell_type": "code",
   "execution_count": 45,
   "metadata": {},
   "outputs": [],
   "source": [
    "message_regex = r\"(\\d{2}/\\d{2}/\\d{4}, \\d{2}:\\d{2})\"\n",
    "datetime_format = \"%d/%m/%Y, %H:%M\""
   ]
  },
  {
   "cell_type": "code",
   "execution_count": 46,
   "metadata": {},
   "outputs": [],
   "source": [
    "split_messages = re.split(message_regex, text)\n",
    "        # turn the \"flat\" list into a list of tuples containing the date and the text\n",
    "zipped_messages = list(zip(split_messages[1::2], split_messages[2::2]))\n",
    "df = pd.DataFrame(zipped_messages, columns=['timestamp', 'text'])"
   ]
  },
  {
   "cell_type": "code",
   "execution_count": 47,
   "metadata": {},
   "outputs": [],
   "source": [
    "df[['sender', 'message']] = df.text.str.extract(\"(.*?): (.*)\", expand=True, flags=re.DOTALL)"
   ]
  },
  {
   "cell_type": "code",
   "execution_count": 48,
   "metadata": {},
   "outputs": [],
   "source": [
    "df = df[(df.text.str.match(\".*:.*\")) & ~(df.text.str.match(\".*Master:.*\"))].reset_index(drop=False)"
   ]
  },
  {
   "cell_type": "code",
   "execution_count": 49,
   "metadata": {},
   "outputs": [],
   "source": [
    "df['timestamp'] = pd.to_datetime(df['timestamp'], format=datetime_format, yearfirst=False)\n",
    "df = df.sort_values('timestamp', ascending=True)"
   ]
  },
  {
   "cell_type": "code",
   "execution_count": 50,
   "metadata": {},
   "outputs": [
    {
     "data": {
      "text/html": [
       "<div>\n",
       "<style scoped>\n",
       "    .dataframe tbody tr th:only-of-type {\n",
       "        vertical-align: middle;\n",
       "    }\n",
       "\n",
       "    .dataframe tbody tr th {\n",
       "        vertical-align: top;\n",
       "    }\n",
       "\n",
       "    .dataframe thead th {\n",
       "        text-align: right;\n",
       "    }\n",
       "</style>\n",
       "<table border=\"1\" class=\"dataframe\">\n",
       "  <thead>\n",
       "    <tr style=\"text-align: right;\">\n",
       "      <th></th>\n",
       "      <th>index</th>\n",
       "      <th>timestamp</th>\n",
       "      <th>text</th>\n",
       "      <th>sender</th>\n",
       "      <th>message</th>\n",
       "    </tr>\n",
       "  </thead>\n",
       "  <tbody>\n",
       "    <tr>\n",
       "      <th>0</th>\n",
       "      <td>3</td>\n",
       "      <td>2019-01-07 11:46:00</td>\n",
       "      <td>- +31 6 24422467: Lunch wordt later verzorgd\\n</td>\n",
       "      <td>- +31 6 24422467</td>\n",
       "      <td>Lunch wordt later verzorgd\\n</td>\n",
       "    </tr>\n",
       "    <tr>\n",
       "      <th>1</th>\n",
       "      <td>4</td>\n",
       "      <td>2019-01-07 11:46:00</td>\n",
       "      <td>- +31 6 36157056: Maar wel verzorgd!:)\\n</td>\n",
       "      <td>- +31 6 36157056</td>\n",
       "      <td>Maar wel verzorgd!:)\\n</td>\n",
       "    </tr>\n",
       "    <tr>\n",
       "      <th>2</th>\n",
       "      <td>5</td>\n",
       "      <td>2019-01-07 11:51:00</td>\n",
       "      <td>- +31 6 24422467: 🙂\\n</td>\n",
       "      <td>- +31 6 24422467</td>\n",
       "      <td>🙂\\n</td>\n",
       "    </tr>\n",
       "    <tr>\n",
       "      <th>3</th>\n",
       "      <td>6</td>\n",
       "      <td>2019-01-07 12:11:00</td>\n",
       "      <td>- +31 6 24422467: De lunch staat klaar\\n</td>\n",
       "      <td>- +31 6 24422467</td>\n",
       "      <td>De lunch staat klaar\\n</td>\n",
       "    </tr>\n",
       "    <tr>\n",
       "      <th>4</th>\n",
       "      <td>7</td>\n",
       "      <td>2019-01-07 12:25:00</td>\n",
       "      <td>- Ollie Dapper: Welcome Robin, Jonas, Anna en...</td>\n",
       "      <td>- Ollie Dapper</td>\n",
       "      <td>Welcome Robin, Jonas, Anna en Michiel!!!\\n</td>\n",
       "    </tr>\n",
       "  </tbody>\n",
       "</table>\n",
       "</div>"
      ],
      "text/plain": [
       "   index           timestamp  \\\n",
       "0      3 2019-01-07 11:46:00   \n",
       "1      4 2019-01-07 11:46:00   \n",
       "2      5 2019-01-07 11:51:00   \n",
       "3      6 2019-01-07 12:11:00   \n",
       "4      7 2019-01-07 12:25:00   \n",
       "\n",
       "                                                text             sender  \\\n",
       "0     - +31 6 24422467: Lunch wordt later verzorgd\\n   - +31 6 24422467   \n",
       "1           - +31 6 36157056: Maar wel verzorgd!:)\\n   - +31 6 36157056   \n",
       "2                              - +31 6 24422467: 🙂\\n   - +31 6 24422467   \n",
       "3           - +31 6 24422467: De lunch staat klaar\\n   - +31 6 24422467   \n",
       "4   - Ollie Dapper: Welcome Robin, Jonas, Anna en...     - Ollie Dapper   \n",
       "\n",
       "                                      message  \n",
       "0                Lunch wordt later verzorgd\\n  \n",
       "1                      Maar wel verzorgd!:)\\n  \n",
       "2                                         🙂\\n  \n",
       "3                      De lunch staat klaar\\n  \n",
       "4  Welcome Robin, Jonas, Anna en Michiel!!!\\n  "
      ]
     },
     "execution_count": 50,
     "metadata": {},
     "output_type": "execute_result"
    }
   ],
   "source": [
    "df.head()"
   ]
  },
  {
   "cell_type": "code",
   "execution_count": 53,
   "metadata": {},
   "outputs": [],
   "source": [
    "df['year'] = df['timestamp'].dt.year"
   ]
  },
  {
   "cell_type": "code",
   "execution_count": 54,
   "metadata": {},
   "outputs": [],
   "source": [
    "df['month'] = df['timestamp'].dt.month"
   ]
  },
  {
   "cell_type": "code",
   "execution_count": 56,
   "metadata": {},
   "outputs": [],
   "source": [
    "df['day'] = df['timestamp'].dt.day"
   ]
  },
  {
   "cell_type": "code",
   "execution_count": 57,
   "metadata": {},
   "outputs": [
    {
     "data": {
      "text/html": [
       "<div>\n",
       "<style scoped>\n",
       "    .dataframe tbody tr th:only-of-type {\n",
       "        vertical-align: middle;\n",
       "    }\n",
       "\n",
       "    .dataframe tbody tr th {\n",
       "        vertical-align: top;\n",
       "    }\n",
       "\n",
       "    .dataframe thead th {\n",
       "        text-align: right;\n",
       "    }\n",
       "</style>\n",
       "<table border=\"1\" class=\"dataframe\">\n",
       "  <thead>\n",
       "    <tr style=\"text-align: right;\">\n",
       "      <th></th>\n",
       "      <th>index</th>\n",
       "      <th>timestamp</th>\n",
       "      <th>text</th>\n",
       "      <th>sender</th>\n",
       "      <th>message</th>\n",
       "      <th>year</th>\n",
       "      <th>month</th>\n",
       "      <th>day</th>\n",
       "    </tr>\n",
       "  </thead>\n",
       "  <tbody>\n",
       "    <tr>\n",
       "      <th>0</th>\n",
       "      <td>3</td>\n",
       "      <td>2019-01-07 11:46:00</td>\n",
       "      <td>- +31 6 24422467: Lunch wordt later verzorgd\\n</td>\n",
       "      <td>- +31 6 24422467</td>\n",
       "      <td>Lunch wordt later verzorgd\\n</td>\n",
       "      <td>2019</td>\n",
       "      <td>1</td>\n",
       "      <td>7</td>\n",
       "    </tr>\n",
       "    <tr>\n",
       "      <th>1</th>\n",
       "      <td>4</td>\n",
       "      <td>2019-01-07 11:46:00</td>\n",
       "      <td>- +31 6 36157056: Maar wel verzorgd!:)\\n</td>\n",
       "      <td>- +31 6 36157056</td>\n",
       "      <td>Maar wel verzorgd!:)\\n</td>\n",
       "      <td>2019</td>\n",
       "      <td>1</td>\n",
       "      <td>7</td>\n",
       "    </tr>\n",
       "    <tr>\n",
       "      <th>2</th>\n",
       "      <td>5</td>\n",
       "      <td>2019-01-07 11:51:00</td>\n",
       "      <td>- +31 6 24422467: 🙂\\n</td>\n",
       "      <td>- +31 6 24422467</td>\n",
       "      <td>🙂\\n</td>\n",
       "      <td>2019</td>\n",
       "      <td>1</td>\n",
       "      <td>7</td>\n",
       "    </tr>\n",
       "    <tr>\n",
       "      <th>3</th>\n",
       "      <td>6</td>\n",
       "      <td>2019-01-07 12:11:00</td>\n",
       "      <td>- +31 6 24422467: De lunch staat klaar\\n</td>\n",
       "      <td>- +31 6 24422467</td>\n",
       "      <td>De lunch staat klaar\\n</td>\n",
       "      <td>2019</td>\n",
       "      <td>1</td>\n",
       "      <td>7</td>\n",
       "    </tr>\n",
       "    <tr>\n",
       "      <th>4</th>\n",
       "      <td>7</td>\n",
       "      <td>2019-01-07 12:25:00</td>\n",
       "      <td>- Ollie Dapper: Welcome Robin, Jonas, Anna en...</td>\n",
       "      <td>- Ollie Dapper</td>\n",
       "      <td>Welcome Robin, Jonas, Anna en Michiel!!!\\n</td>\n",
       "      <td>2019</td>\n",
       "      <td>1</td>\n",
       "      <td>7</td>\n",
       "    </tr>\n",
       "  </tbody>\n",
       "</table>\n",
       "</div>"
      ],
      "text/plain": [
       "   index           timestamp  \\\n",
       "0      3 2019-01-07 11:46:00   \n",
       "1      4 2019-01-07 11:46:00   \n",
       "2      5 2019-01-07 11:51:00   \n",
       "3      6 2019-01-07 12:11:00   \n",
       "4      7 2019-01-07 12:25:00   \n",
       "\n",
       "                                                text             sender  \\\n",
       "0     - +31 6 24422467: Lunch wordt later verzorgd\\n   - +31 6 24422467   \n",
       "1           - +31 6 36157056: Maar wel verzorgd!:)\\n   - +31 6 36157056   \n",
       "2                              - +31 6 24422467: 🙂\\n   - +31 6 24422467   \n",
       "3           - +31 6 24422467: De lunch staat klaar\\n   - +31 6 24422467   \n",
       "4   - Ollie Dapper: Welcome Robin, Jonas, Anna en...     - Ollie Dapper   \n",
       "\n",
       "                                      message  year  month  day  \n",
       "0                Lunch wordt later verzorgd\\n  2019      1    7  \n",
       "1                      Maar wel verzorgd!:)\\n  2019      1    7  \n",
       "2                                         🙂\\n  2019      1    7  \n",
       "3                      De lunch staat klaar\\n  2019      1    7  \n",
       "4  Welcome Robin, Jonas, Anna en Michiel!!!\\n  2019      1    7  "
      ]
     },
     "execution_count": 57,
     "metadata": {},
     "output_type": "execute_result"
    }
   ],
   "source": [
    "df.head()"
   ]
  },
  {
   "cell_type": "code",
   "execution_count": 61,
   "metadata": {},
   "outputs": [
    {
     "data": {
      "text/plain": [
       "1    523\n",
       "3    486\n",
       "2    436\n",
       "Name: month, dtype: int64"
      ]
     },
     "execution_count": 61,
     "metadata": {},
     "output_type": "execute_result"
    }
   ],
   "source": [
    "df['month'].value_counts()"
   ]
  },
  {
   "cell_type": "code",
   "execution_count": 69,
   "metadata": {},
   "outputs": [
    {
     "data": {
      "text/plain": [
       "1     123\n",
       "8     112\n",
       "25     91\n",
       "18     84\n",
       "5      72\n",
       "14     72\n",
       "11     68\n",
       "7      65\n",
       "19     64\n",
       "28     63\n",
       "15     63\n",
       "6      58\n",
       "9      55\n",
       "22     52\n",
       "10     43\n",
       "17     42\n",
       "23     40\n",
       "20     33\n",
       "27     31\n",
       "21     29\n",
       "29     25\n",
       "24     24\n",
       "31     21\n",
       "13     20\n",
       "2      20\n",
       "26     19\n",
       "16     18\n",
       "4      16\n",
       "30     12\n",
       "12     10\n",
       "Name: day, dtype: int64"
      ]
     },
     "execution_count": 69,
     "metadata": {},
     "output_type": "execute_result"
    }
   ],
   "source": [
    "df['day'].value_counts().sort_values(axis=0, ascending=False)"
   ]
  },
  {
   "cell_type": "code",
   "execution_count": 73,
   "metadata": {},
   "outputs": [
    {
     "data": {
      "text/plain": [
       "82"
      ]
     },
     "execution_count": 73,
     "metadata": {},
     "output_type": "execute_result"
    }
   ],
   "source": [
    "df['sender'].nunique()"
   ]
  },
  {
   "cell_type": "code",
   "execution_count": 86,
   "metadata": {},
   "outputs": [
    {
     "data": {
      "text/plain": [
       " - Monica Kürüm          172\n",
       " - Ollie Dapper          148\n",
       " - +31 6 36157056         82\n",
       " - William van Lith       72\n",
       " - +31 6 19433610         65\n",
       " - +31 6 12779755         49\n",
       " - +31 6 49922015         45\n",
       " - Yu Ri Tan              36\n",
       " - +31 6 52671309         35\n",
       " - Lisanne Rijnveld       33\n",
       " - +31 6 15313052         32\n",
       " - +31 6 30143625         31\n",
       " - +31 6 40505362         30\n",
       " - +31 6 39778668         28\n",
       " - +31 6 37021682         28\n",
       " - +31 6 29242318         28\n",
       " - +31 6 53535162         26\n",
       " - +31 6 34749970         25\n",
       " - +31 6 34041415         24\n",
       " - Aniek van der Werf     22\n",
       " - +44 7537 895333        22\n",
       " - +31 6 24422467         22\n",
       " - +31 6 10779001         21\n",
       " - Anna Commandeur        20\n",
       " - Tim Reus               19\n",
       " - Marlot Schuuring       18\n",
       " - +31 6 46311315         16\n",
       " - +31 6 11647020         15\n",
       " - +31 6 13633963         14\n",
       " - +31 6 55224791         14\n",
       "                        ... \n",
       " - +31 6 51649941          5\n",
       " - +31 6 11333003          5\n",
       " - +31 6 34847614          5\n",
       " - +31 6 13368821          5\n",
       " - +31 6 11623013          4\n",
       " - +31 6 48000957          3\n",
       " - +31 6 28140428          3\n",
       " - +371 20 076 807         3\n",
       " - +31 6 18027639          3\n",
       " - +31 6 30948843          2\n",
       " - +31 6 27358963          2\n",
       " - +31 6 34403225          2\n",
       " - +33 6 95 91 81 87       2\n",
       " - +31 6 45281896          2\n",
       " - +86 156 1873 1530       2\n",
       " - +31 6 16307981          2\n",
       " - +31 6 48729446          2\n",
       " - +31 6 30175009          1\n",
       " - +31 6 27555672          1\n",
       " - +31 6 22609433          1\n",
       " - +31 6 11799346          1\n",
       " - +31 6 13875819          1\n",
       " - +31 6 50506150          1\n",
       " - +39 349 898 6780        1\n",
       " - +31 6 25205087          1\n",
       " - +31 6 18414184          1\n",
       " - +31 6 38106363          1\n",
       " - +31 6 21983450          1\n",
       " - +31 6 48230884          1\n",
       " - +31 6 43220667          1\n",
       "Name: sender, Length: 82, dtype: int64"
      ]
     },
     "execution_count": 86,
     "metadata": {},
     "output_type": "execute_result"
    }
   ],
   "source": [
    "df['sender'].value_counts()"
   ]
  },
  {
   "cell_type": "code",
   "execution_count": 88,
   "metadata": {},
   "outputs": [
    {
     "data": {
      "text/plain": [
       " - Monica Kürüm          2.097561\n",
       " - Ollie Dapper          1.804878\n",
       " - +31 6 36157056        1.000000\n",
       " - William van Lith      0.878049\n",
       " - +31 6 19433610        0.792683\n",
       " - +31 6 12779755        0.597561\n",
       " - +31 6 49922015        0.548780\n",
       " - Yu Ri Tan             0.439024\n",
       " - +31 6 52671309        0.426829\n",
       " - Lisanne Rijnveld      0.402439\n",
       " - +31 6 15313052        0.390244\n",
       " - +31 6 30143625        0.378049\n",
       " - +31 6 40505362        0.365854\n",
       " - +31 6 39778668        0.341463\n",
       " - +31 6 37021682        0.341463\n",
       " - +31 6 29242318        0.341463\n",
       " - +31 6 53535162        0.317073\n",
       " - +31 6 34749970        0.304878\n",
       " - +31 6 34041415        0.292683\n",
       " - Aniek van der Werf    0.268293\n",
       " - +44 7537 895333       0.268293\n",
       " - +31 6 24422467        0.268293\n",
       " - +31 6 10779001        0.256098\n",
       " - Anna Commandeur       0.243902\n",
       " - Tim Reus              0.231707\n",
       " - Marlot Schuuring      0.219512\n",
       " - +31 6 46311315        0.195122\n",
       " - +31 6 11647020        0.182927\n",
       " - +31 6 13633963        0.170732\n",
       " - +31 6 55224791        0.170732\n",
       "                           ...   \n",
       " - +31 6 51649941        0.060976\n",
       " - +31 6 11333003        0.060976\n",
       " - +31 6 34847614        0.060976\n",
       " - +31 6 13368821        0.060976\n",
       " - +31 6 11623013        0.048780\n",
       " - +31 6 48000957        0.036585\n",
       " - +31 6 28140428        0.036585\n",
       " - +371 20 076 807       0.036585\n",
       " - +31 6 18027639        0.036585\n",
       " - +31 6 30948843        0.024390\n",
       " - +31 6 27358963        0.024390\n",
       " - +31 6 34403225        0.024390\n",
       " - +33 6 95 91 81 87     0.024390\n",
       " - +31 6 45281896        0.024390\n",
       " - +86 156 1873 1530     0.024390\n",
       " - +31 6 16307981        0.024390\n",
       " - +31 6 48729446        0.024390\n",
       " - +31 6 30175009        0.012195\n",
       " - +31 6 27555672        0.012195\n",
       " - +31 6 22609433        0.012195\n",
       " - +31 6 11799346        0.012195\n",
       " - +31 6 13875819        0.012195\n",
       " - +31 6 50506150        0.012195\n",
       " - +39 349 898 6780      0.012195\n",
       " - +31 6 25205087        0.012195\n",
       " - +31 6 18414184        0.012195\n",
       " - +31 6 38106363        0.012195\n",
       " - +31 6 21983450        0.012195\n",
       " - +31 6 48230884        0.012195\n",
       " - +31 6 43220667        0.012195\n",
       "Name: sender, Length: 82, dtype: float64"
      ]
     },
     "execution_count": 88,
     "metadata": {},
     "output_type": "execute_result"
    }
   ],
   "source": [
    "df['sender'].value_counts() / df['sender'].nunique()"
   ]
  },
  {
   "cell_type": "code",
   "execution_count": 90,
   "metadata": {},
   "outputs": [],
   "source": [
    "df['hours'] = df['timestamp'].dt.hour"
   ]
  },
  {
   "cell_type": "code",
   "execution_count": 92,
   "metadata": {},
   "outputs": [],
   "source": [
    "df['minuten'] = df['timestamp'].dt.minute"
   ]
  },
  {
   "cell_type": "code",
   "execution_count": 93,
   "metadata": {},
   "outputs": [
    {
     "name": "stderr",
     "output_type": "stream",
     "text": [
      "C:\\Users\\robin\\Anaconda3\\lib\\site-packages\\scipy\\stats\\stats.py:1713: FutureWarning: Using a non-tuple sequence for multidimensional indexing is deprecated; use `arr[tuple(seq)]` instead of `arr[seq]`. In the future this will be interpreted as an array index, `arr[np.array(seq)]`, which will result either in an error or a different result.\n",
      "  return np.add.reduce(sorted[indexer] * weights, axis=axis) / sumval\n"
     ]
    },
    {
     "data": {
      "text/plain": [
       "<matplotlib.axes._subplots.AxesSubplot at 0x25d5bf96c18>"
      ]
     },
     "execution_count": 93,
     "metadata": {},
     "output_type": "execute_result"
    },
    {
     "data": {
      "image/png": "[encoded data removed]",
      "text/plain": [
       "<Figure size 432x288 with 1 Axes>"
      ]
     },
     "metadata": {
      "needs_background": "light"
     },
     "output_type": "display_data"
    }
   ],
   "source": [
    "sns.distplot(df['hours'])"
   ]
  },
  {
   "cell_type": "code",
   "execution_count": 116,
   "metadata": {},
   "outputs": [
    {
     "data": {
      "text/html": [
       "<div>\n",
       "<style scoped>\n",
       "    .dataframe tbody tr th:only-of-type {\n",
       "        vertical-align: middle;\n",
       "    }\n",
       "\n",
       "    .dataframe tbody tr th {\n",
       "        vertical-align: top;\n",
       "    }\n",
       "\n",
       "    .dataframe thead tr th {\n",
       "        text-align: left;\n",
       "    }\n",
       "\n",
       "    .dataframe thead tr:last-of-type th {\n",
       "        text-align: right;\n",
       "    }\n",
       "</style>\n",
       "<table border=\"1\" class=\"dataframe\">\n",
       "  <thead>\n",
       "    <tr>\n",
       "      <th></th>\n",
       "      <th>day</th>\n",
       "      <th colspan=\"3\" halign=\"left\">hours</th>\n",
       "    </tr>\n",
       "    <tr>\n",
       "      <th></th>\n",
       "      <th>count</th>\n",
       "      <th>count</th>\n",
       "      <th>max</th>\n",
       "      <th>min</th>\n",
       "    </tr>\n",
       "    <tr>\n",
       "      <th>timestamp</th>\n",
       "      <th></th>\n",
       "      <th></th>\n",
       "      <th></th>\n",
       "      <th></th>\n",
       "    </tr>\n",
       "  </thead>\n",
       "  <tbody>\n",
       "    <tr>\n",
       "      <th>0</th>\n",
       "      <td>135</td>\n",
       "      <td>135</td>\n",
       "      <td>22</td>\n",
       "      <td>7</td>\n",
       "    </tr>\n",
       "    <tr>\n",
       "      <th>1</th>\n",
       "      <td>183</td>\n",
       "      <td>183</td>\n",
       "      <td>23</td>\n",
       "      <td>7</td>\n",
       "    </tr>\n",
       "    <tr>\n",
       "      <th>2</th>\n",
       "      <td>212</td>\n",
       "      <td>212</td>\n",
       "      <td>21</td>\n",
       "      <td>8</td>\n",
       "    </tr>\n",
       "    <tr>\n",
       "      <th>3</th>\n",
       "      <td>305</td>\n",
       "      <td>305</td>\n",
       "      <td>23</td>\n",
       "      <td>8</td>\n",
       "    </tr>\n",
       "    <tr>\n",
       "      <th>4</th>\n",
       "      <td>499</td>\n",
       "      <td>499</td>\n",
       "      <td>23</td>\n",
       "      <td>0</td>\n",
       "    </tr>\n",
       "    <tr>\n",
       "      <th>5</th>\n",
       "      <td>93</td>\n",
       "      <td>93</td>\n",
       "      <td>23</td>\n",
       "      <td>0</td>\n",
       "    </tr>\n",
       "    <tr>\n",
       "      <th>6</th>\n",
       "      <td>18</td>\n",
       "      <td>18</td>\n",
       "      <td>20</td>\n",
       "      <td>0</td>\n",
       "    </tr>\n",
       "  </tbody>\n",
       "</table>\n",
       "</div>"
      ],
      "text/plain": [
       "            day hours        \n",
       "          count count max min\n",
       "timestamp                    \n",
       "0           135   135  22   7\n",
       "1           183   183  23   7\n",
       "2           212   212  21   8\n",
       "3           305   305  23   8\n",
       "4           499   499  23   0\n",
       "5            93    93  23   0\n",
       "6            18    18  20   0"
      ]
     },
     "execution_count": 116,
     "metadata": {},
     "output_type": "execute_result"
    }
   ],
   "source": [
    "df.groupby(by=df['timestamp'].dt.weekday).agg({'day':['count'], 'hours':['count', 'max', 'min']})\n"
   ]
  },
  {
   "cell_type": "code",
   "execution_count": 150,
   "metadata": {},
   "outputs": [
    {
     "data": {
      "text/html": [
       "<div>\n",
       "<style scoped>\n",
       "    .dataframe tbody tr th:only-of-type {\n",
       "        vertical-align: middle;\n",
       "    }\n",
       "\n",
       "    .dataframe tbody tr th {\n",
       "        vertical-align: top;\n",
       "    }\n",
       "\n",
       "    .dataframe thead tr th {\n",
       "        text-align: left;\n",
       "    }\n",
       "\n",
       "    .dataframe thead tr:last-of-type th {\n",
       "        text-align: right;\n",
       "    }\n",
       "</style>\n",
       "<table border=\"1\" class=\"dataframe\">\n",
       "  <thead>\n",
       "    <tr>\n",
       "      <th></th>\n",
       "      <th>day</th>\n",
       "      <th colspan=\"2\" halign=\"left\">hours</th>\n",
       "    </tr>\n",
       "    <tr>\n",
       "      <th></th>\n",
       "      <th>count</th>\n",
       "      <th>max</th>\n",
       "      <th>min</th>\n",
       "    </tr>\n",
       "    <tr>\n",
       "      <th>timestamp</th>\n",
       "      <th></th>\n",
       "      <th></th>\n",
       "      <th></th>\n",
       "    </tr>\n",
       "  </thead>\n",
       "  <tbody>\n",
       "    <tr>\n",
       "      <th>0</th>\n",
       "      <td>135</td>\n",
       "      <td>22</td>\n",
       "      <td>7</td>\n",
       "    </tr>\n",
       "    <tr>\n",
       "      <th>1</th>\n",
       "      <td>183</td>\n",
       "      <td>23</td>\n",
       "      <td>7</td>\n",
       "    </tr>\n",
       "    <tr>\n",
       "      <th>2</th>\n",
       "      <td>212</td>\n",
       "      <td>21</td>\n",
       "      <td>8</td>\n",
       "    </tr>\n",
       "    <tr>\n",
       "      <th>3</th>\n",
       "      <td>305</td>\n",
       "      <td>23</td>\n",
       "      <td>8</td>\n",
       "    </tr>\n",
       "    <tr>\n",
       "      <th>4</th>\n",
       "      <td>499</td>\n",
       "      <td>23</td>\n",
       "      <td>0</td>\n",
       "    </tr>\n",
       "    <tr>\n",
       "      <th>5</th>\n",
       "      <td>93</td>\n",
       "      <td>23</td>\n",
       "      <td>0</td>\n",
       "    </tr>\n",
       "    <tr>\n",
       "      <th>6</th>\n",
       "      <td>18</td>\n",
       "      <td>20</td>\n",
       "      <td>0</td>\n",
       "    </tr>\n",
       "  </tbody>\n",
       "</table>\n",
       "</div>"
      ],
      "text/plain": [
       "            day hours    \n",
       "          count   max min\n",
       "timestamp                \n",
       "0           135    22   7\n",
       "1           183    23   7\n",
       "2           212    21   8\n",
       "3           305    23   8\n",
       "4           499    23   0\n",
       "5            93    23   0\n",
       "6            18    20   0"
      ]
     },
     "execution_count": 150,
     "metadata": {},
     "output_type": "execute_result"
    }
   ],
   "source": [
    "df.groupby(by=df['timestamp'].dt.weekday).agg({'day':['count'], 'hours':['max', 'min']})"
   ]
  },
  {
   "cell_type": "code",
   "execution_count": 162,
   "metadata": {},
   "outputs": [
    {
     "data": {
      "text/plain": [
       "<matplotlib.axes._subplots.AxesSubplot at 0x25d5e3e7278>"
      ]
     },
     "execution_count": 162,
     "metadata": {},
     "output_type": "execute_result"
    },
    {
     "data": {
      "image/png": "[encoded data removed]",
      "text/plain": [
       "<Figure size 432x288 with 1 Axes>"
      ]
     },
     "metadata": {
      "needs_background": "light"
     },
     "output_type": "display_data"
    }
   ],
   "source": [
    "df.groupby(by=df['timestamp'].dt.weekday).agg({'day':['count']}).plot(kind='bar')"
   ]
  },
  {
   "cell_type": "code",
   "execution_count": 181,
   "metadata": {},
   "outputs": [
    {
     "data": {
      "text/plain": [
       "<matplotlib.axes._subplots.AxesSubplot at 0x25d5fcb62b0>"
      ]
     },
     "execution_count": 181,
     "metadata": {},
     "output_type": "execute_result"
    },
    {
     "data": {
      "image/png": "[encoded data removed]",
      "text/plain": [
       "<Figure size 432x288 with 1 Axes>"
      ]
     },
     "metadata": {
      "needs_background": "light"
     },
     "output_type": "display_data"
    }
   ],
   "source": [
    "df.groupby(by=df['timestamp'].dt.weekday).agg({'hours':['min', 'max', 'mean']}).plot(kind='bar')"
   ]
  },
  {
   "cell_type": "code",
   "execution_count": null,
   "metadata": {},
   "outputs": [],
   "source": []
  },
  {
   "cell_type": "code",
   "execution_count": null,
   "metadata": {},
   "outputs": [],
   "source": []
  },
  {
   "cell_type": "code",
   "execution_count": null,
   "metadata": {},
   "outputs": [],
   "source": []
  },
  {
   "cell_type": "code",
   "execution_count": null,
   "metadata": {},
   "outputs": [],
   "source": []
  },
  {
   "cell_type": "code",
   "execution_count": null,
   "metadata": {},
   "outputs": [],
   "source": []
  },
  {
   "cell_type": "code",
   "execution_count": null,
   "metadata": {},
   "outputs": [],
   "source": []
  }
 ],
 "metadata": {
  "kernelspec": {
   "display_name": "Python 3",
   "language": "python",
   "name": "python3"
  },
  "language_info": {
   "codemirror_mode": {
    "name": "ipython",
    "version": 3
   },
   "file_extension": ".py",
   "mimetype": "text/x-python",
   "name": "python",
   "nbconvert_exporter": "python",
   "pygments_lexer": "ipython3",
   "version": "3.7.1"
  }
 },
 "nbformat": 4,
 "nbformat_minor": 2
}
