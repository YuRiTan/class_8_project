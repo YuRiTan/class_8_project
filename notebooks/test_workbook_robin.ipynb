{
 "cells": [
  {
   "cell_type": "code",
   "execution_count": 8,
   "metadata": {},
   "outputs": [],
   "source": [
    "import pandas as pd\n",
    "import numpy as np\n",
    "import seaborn as sns"
   ]
  },
  {
   "cell_type": "code",
   "execution_count": 30,
   "metadata": {},
   "outputs": [],
   "source": [
    "with open('notebooks/xomnia_chat_android.txt', 'r', encoding=\"utf-8\") as f:\n",
    "    text = f.read()"
   ]
  },
  {
   "cell_type": "code",
   "execution_count": 33,
   "metadata": {},
   "outputs": [],
   "source": [
    "message_regex = r\"(\\d{2}/\\d{2}/\\d{4}, \\d{2}:\\d{2})\"\n",
    "datetime_format = \"%d/%m/%Y, %H:%M\""
   ]
  },
  {
   "cell_type": "code",
   "execution_count": 36,
   "metadata": {},
   "outputs": [],
   "source": [
    "split_messages = re.split(message_regex, text)\n",
    "        # turn the \"flat\" list into a list of tuples containing the date and the text\n",
    "zipped_messages = list(zip(split_messages[1::2], split_messages[2::2]))\n",
    "df = pd.DataFrame(zipped_messages, columns=['timestamp', 'text'])"
   ]
  },
  {
   "cell_type": "code",
   "execution_count": 37,
   "metadata": {},
   "outputs": [],
   "source": [
    "df[['sender', 'message']] = df.text.str.extract(\"(.*?): (.*)\", expand=True, flags=re.DOTALL)"
   ]
  },
  {
   "cell_type": "code",
   "execution_count": 38,
   "metadata": {},
   "outputs": [],
   "source": [
    "df = df[(df.text.str.match(\".*:.*\")) & ~(df.text.str.match(\".*Master:.*\"))].reset_index(drop=False)"
   ]
  },
  {
   "cell_type": "code",
   "execution_count": null,
   "metadata": {},
   "outputs": [],
   "source": [
    "df['timestamp'] = pd.to_datetime(df['timestamp'], format=self.datetime_format, yearfirst=False)\n",
    "df = df.sort_values('timestamp', ascending=True)"
   ]
  },
  {
   "cell_type": "code",
   "execution_count": null,
   "metadata": {},
   "outputs": [],
   "source": []
  }
 ],
 "metadata": {
  "kernelspec": {
   "display_name": "Python 3",
   "language": "python",
   "name": "python3"
  },
  "language_info": {
   "codemirror_mode": {
    "name": "ipython",
    "version": 3
   },
   "file_extension": ".py",
   "mimetype": "text/x-python",
   "name": "python",
   "nbconvert_exporter": "python",
   "pygments_lexer": "ipython3",
   "version": "3.7.1"
  }
 },
 "nbformat": 4,
 "nbformat_minor": 2
}
